{
 "cells": [
  {
   "cell_type": "code",
   "execution_count": 1,
   "id": "bcbb1f53",
   "metadata": {},
   "outputs": [],
   "source": [
    "pip install riotwatcher"
   ]
  },
  {
   "cell_type": "code",
   "execution_count": 2,
   "id": "e3cd5169",
   "metadata": {},
   "outputs": [],
   "source": [
    "from riotwatcher import LolWatcher, ApiError"
   ]
  },
  {
   "cell_type": "code",
   "execution_count": 3,
   "id": "0a268748",
   "metadata": {},
   "outputs": [],
   "source": [
    "# Creates the list to contain our players and stats\n",
    "def openStatList(myFriends):\n",
    "    players = []\n",
    "    for name in myFriends:\n",
    "        addPlayer(players, name)\n",
    "    return players\n",
    "\n",
    "# Adding empty stat players \n",
    "def addPlayer(players, name, gamesPlayed = 0, gamesWon = 0):\n",
    "    player = {\n",
    "        'name': name,\n",
    "        'gamesPlayed': gamesPlayed,\n",
    "        'gamesWon': gamesWon,\n",
    "    }\n",
    "    players.append(player)\n",
    "\n",
    "# Saves all our players' puuids for easy access \n",
    "def cacheAccounts(friendList):\n",
    "    puuidNameDict = {}\n",
    "    for name in friendList:\n",
    "        puuid = getPuuidFromName(name)\n",
    "        puuidNameDict.update({puuid: name})\n",
    "    return puuidNameDict\n",
    "\n",
    "def getPuuidFromName(name):\n",
    "    summonerdto = lol_watcher.summoner.by_name(region, name)\n",
    "    return summonerdto['puuid']\n",
    "\n",
    "# Returns only our friends' names from the match\n",
    "def getNamesFromMatch(gamedetails, accountsDict):\n",
    "    nameList = []\n",
    "    puuidList = gamedetails['metadata']['participants'] # gets list of all 10 players\n",
    "    for puuid in puuidList:\n",
    "        if puuid in accountsDict:\n",
    "            nameList.append(accountsDict.get(puuid))\n",
    "    return nameList\n",
    "\n",
    "# Returns whether we've won the game or not\n",
    "def hasWon(gamedetails, teamList):\n",
    "    for i in range(10):\n",
    "        if gamedetails['info']['participants'][i]['summonerName'] in teamList:\n",
    "            return (gamedetails['info']['participants'][i]['win'])\n",
    "    return\n",
    "\n",
    "# Update player stats\n",
    "def updateStatList(statList, players, victory):\n",
    "    for player in players:\n",
    "        for i in range(len(statList)):\n",
    "            if player == statList[i]['name']:\n",
    "                statList[i]['gamesPlayed'] += 1\n",
    "                if (victory):\n",
    "                    statList[i]['gamesWon'] += 1\n",
    "                break\n",
    "    return statList\n",
    "\n",
    "def displayStats(statList):\n",
    "    finaltext = \"\"\n",
    "    for i in range(len(statList)):\n",
    "        winratetext = str(round((statList[i]['gamesWon']/statList[i]['gamesPlayed']*100),0))\n",
    "        gamesPlayedtext = str(statList[i]['gamesPlayed'])\n",
    "        if statList[i]['gamesPlayed'] != 0:\n",
    "            if statList[i]['name'] != playerName:\n",
    "                finaltext += statList[i]['name']+\": \"+winratetext+\"% of \"+gamesPlayedtext+\" games. \\n\"\n",
    "            else:\n",
    "                print(playerName+\" has a winrate of \"+winratetext+\"% of \"+gamesPlayedtext+\" games, and have the following winrates with:\")\n",
    "    print(finaltext)"
   ]
  },
  {
   "cell_type": "code",
   "execution_count": 4,
   "id": "ca17d9d7",
   "metadata": {},
   "outputs": [],
   "source": [
    "# Make sure to register/renew apiKey at: https://developer.riotgames.com/ \n",
    "apiKey = 'RGAPI-XX'\n",
    "\n",
    "# setup riot-watcher with our key\n",
    "lol_watcher = LolWatcher(apiKey)\n",
    "region = 'oc1'"
   ]
  },
  {
   "cell_type": "code",
   "execution_count": 5,
   "id": "e30cd7c0",
   "metadata": {},
   "outputs": [
    {
     "name": "stdout",
     "output_type": "stream",
     "text": [
      "Elliechu has a winrate of 43.0% of 100 games, and have the following winrates with:\n",
      "pinkfolder2: 48.0% of 44 games. \n",
      "XxElitePetexX: 44.0% of 63 games. \n",
      "Floppy Corn: 49.0% of 69 games. \n",
      "Fwoqqet: 82.0% of 11 games. \n",
      "kdng: 44.0% of 9 games. \n",
      "BirdBrainn: 55.0% of 22 games. \n",
      "HoChiLim: 37.0% of 30 games. \n",
      "PhotonBlade8: 50.0% of 12 games. \n",
      "\n"
     ]
    }
   ],
   "source": [
    "# change if needed\n",
    "playerName = \"Fwoqqet\"\n",
    "myFriends = [\n",
    "    playerName,\n",
    "    'pinkfolder2', \n",
    "    'XxElitePetexX',\n",
    "    'Floppy Corn',\n",
    "    'Elliechu',\n",
    "    'kdng',\n",
    "    'BirdBrainn',\n",
    "    'HoChiLim',\n",
    "    'PhotonBlade8'\n",
    "]\n",
    "\n",
    "# grab my puuid\n",
    "me = lol_watcher.summoner.by_name(region, playerName)\n",
    "puuid = me['puuid']\n",
    "\n",
    "# grab all our friends' puuids- so we don't have to constantly search for them\n",
    "statList = openStatList(myFriends)\n",
    "puuidNameDict = cacheAccounts(myFriends)\n",
    "\n",
    "# grab the matches\n",
    "index = 0\n",
    "matches = 100\n",
    "queueid = 450 #this is ARAM\n",
    "games = lol_watcher.match.matchlist_by_puuid(region, puuid, 0, matches, queueid)\n",
    "\n",
    "for gameid in games:\n",
    "    gamedetails = lol_watcher.match.by_id(region, gameid)\n",
    "    namesList = getNamesFromMatch(gamedetails, puuidNameDict)\n",
    "    victory = hasWon(gamedetails, namesList)\n",
    "    statList = updateStatList(statList, namesList, victory)\n",
    "    \n",
    "displayStats(statList)"
   ]
  }
 ],
 "metadata": {
  "kernelspec": {
   "display_name": "Python 3 (ipykernel)",
   "language": "python",
   "name": "python3"
  },
  "language_info": {
   "codemirror_mode": {
    "name": "ipython",
    "version": 3
   },
   "file_extension": ".py",
   "mimetype": "text/x-python",
   "name": "python",
   "nbconvert_exporter": "python",
   "pygments_lexer": "ipython3",
   "version": "3.11.5"
  }
 },
 "nbformat": 4,
 "nbformat_minor": 5
}
